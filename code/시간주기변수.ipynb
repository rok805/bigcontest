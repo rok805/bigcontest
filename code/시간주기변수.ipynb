{
 "cells": [
  {
   "cell_type": "code",
   "execution_count": 1,
   "metadata": {},
   "outputs": [],
   "source": [
    "import pandas as pd\n",
    "import utils\n",
    "import numpy as np\n",
    "import os\n",
    "import load_data\n",
    "\n",
    "\n",
    "import matplotlib \n",
    "import matplotlib.font_manager as fm\n",
    "import matplotlib.pyplot as plt\n",
    "from matplotlib import font_manager, rc\n",
    "import seaborn as sns\n",
    "import scipy.stats as stats\n",
    "from collections import Counter"
   ]
  },
  {
   "cell_type": "code",
   "execution_count": 2,
   "metadata": {},
   "outputs": [],
   "source": [
    "train_path = utils.train_path\n",
    "df = pd.read_csv(train_path+'train.csv')"
   ]
  },
  {
   "cell_type": "code",
   "execution_count": 20,
   "metadata": {
    "scrolled": true
   },
   "outputs": [
    {
     "data": {
      "text/html": [
       "<div>\n",
       "<style scoped>\n",
       "    .dataframe tbody tr th:only-of-type {\n",
       "        vertical-align: middle;\n",
       "    }\n",
       "\n",
       "    .dataframe tbody tr th {\n",
       "        vertical-align: top;\n",
       "    }\n",
       "\n",
       "    .dataframe thead th {\n",
       "        text-align: right;\n",
       "    }\n",
       "</style>\n",
       "<table border=\"1\" class=\"dataframe\">\n",
       "  <thead>\n",
       "    <tr style=\"text-align: right;\">\n",
       "      <th></th>\n",
       "      <th>time_w</th>\n",
       "      <th>취급액</th>\n",
       "    </tr>\n",
       "  </thead>\n",
       "  <tbody>\n",
       "    <tr>\n",
       "      <th>time_w</th>\n",
       "      <td>1.000000</td>\n",
       "      <td>0.158561</td>\n",
       "    </tr>\n",
       "    <tr>\n",
       "      <th>취급액</th>\n",
       "      <td>0.158561</td>\n",
       "      <td>1.000000</td>\n",
       "    </tr>\n",
       "  </tbody>\n",
       "</table>\n",
       "</div>"
      ],
      "text/plain": [
       "          time_w       취급액\n",
       "time_w  1.000000  0.158561\n",
       "취급액     0.158561  1.000000"
      ]
     },
     "execution_count": 20,
     "metadata": {},
     "output_type": "execute_result"
    }
   ],
   "source": [
    "df[['time_w','취급액']].corr()"
   ]
  },
  {
   "cell_type": "code",
   "execution_count": 8,
   "metadata": {},
   "outputs": [],
   "source": [
    "def processing_time_w_c(df_):\n",
    "    df_.reset_index(drop=True, inplace=True)\n",
    "\n",
    "    # local peak series\n",
    "    # 전체 시간대는 21시로 분할 가능. 하루주기 => 21구간(06 ~ 02시). \n",
    "    hour=list(range(0,22,1)) \n",
    "    hour_in_day = 22 \n",
    "    hour_sin  = np.sin([np.pi*i/hour_in_day for i in hour]).tolist() # 구간별 sin값 생성. sin peak: hour_sin[10]\n",
    "\n",
    "\n",
    "    # 상품군별 local peak, prime time에 대한 sin class number per hour.\n",
    "    peak_dict ={\n",
    "        '가전':[6,7,8,9,10,9,8,9,10,9,8,7,7,8,9,10,9,8,7,6,5], # local peak: 10, 14, 21 시.  prime time: 21시\n",
    "        '농수축':[6,7,8,9,10,9,8,7,7,8,9,10,9,8,8,9,10,9,8,7,6], # local peak: 10, 17, 22 시. prime time: 22시\n",
    "        '잡화':[9,10,9,8,9,10,9,8,8,9,10,9,9,10,9,8,9,10,9,8,7], # local peak: 7, 11, 16, 19, 23 시. prime time: 19시\n",
    "        '생활용품':[6,7,8,9,10,9,8,7,7,8,9,10,9,8,9,10,9,8,7,6,5],  # local peak: 10, 17, 21 시. prime time: 21시\n",
    "        '주방':[5,6,7,8,9,10,9,8,9,10,9,8,7,8,9,10,9,8,7,6,5],  # local peak: 11, 15, 21 시. prime time: 21시\n",
    "        '이미용':[6,7,8,9,10,9,8,7,8,9,10,9,8,8,9,10,9,8,7,6,5], # local peak: 10, 16, 21 시. prime time: 21시\n",
    "        '속옷':[6,7,8,9,10,9,8,7,6,5,4,5,6,7,8,9,10,9,8,7,6], # local peak: 10, 22 시. prime time: 22시\n",
    "        '의류':[6,7,8,9,10,9,8,8,9,10,9,10,9,8,9,10,9,8,7,6,5], # local peak: 10, 15, 17, 21 시. prime time: 10시\n",
    "        '건강기능':[5,6,7,8,9,10,9,8,7,6,7,8,9,10,9,8,7,6,5,4,3], # local peak: 11, 19 시. prime time: 19시\n",
    "        '침구':[6,7,8,9,10,9,8,7,6,5,4,5,6,7,8,9,10,9,8,7,6], # local peak: 10, 22시. prime time: 22시\n",
    "        '가구':[9,10,9,8,7,6,5,4,3,4,5,6,7,8,9,10,9,8,7,6,5], # local peak: 7, 21시. prime time: 21시\n",
    "    }\n",
    "\n",
    "    for i in peak_dict:\n",
    "        peak_dict[i] = {m:hour_sin[n] for m,n in zip([6,7,8,9,10,11,12,13,14,15,16,17,18,19,20,21,22,23,0,1,2],peak_dict[i])}\n",
    "        \n",
    "    df_['시간_w_c'] = 0\n",
    "    \n",
    "    for i in df_.index:\n",
    "        df_.loc[i,'시간_w_c'] = peak_dict[df_.loc[i,'상품군']][df_.loc[i,'시간대']]\n",
    "        \n",
    "    return df_"
   ]
  },
  {
   "cell_type": "code",
   "execution_count": 9,
   "metadata": {},
   "outputs": [],
   "source": [
    "def processing_prime_time_w_c(df_):\n",
    "    df_.reset_index(drop=True, inplace=True)\n",
    "    \n",
    "    # prime peak series\n",
    "    hour=list(range(0,22,1)) # third: 1 second: 6, summit: 11, second: 16, third: 0\n",
    "    hour_in_day=22\n",
    "\n",
    "    hour_sin  = np.sin([np.pi*i/hour_in_day for i in hour]).tolist() # 구간별 sin값 생성. sin peak: hour_sin[10]\n",
    "\n",
    "\n",
    "    # 상품군별 local peak, prime time에 대한 sin class number per hour.\n",
    "    prime_peak_dict ={\n",
    "        '가전':[1,1, 6,6,6,6,6,6,6,6,6,6,6,6,6, 11,11, 16, 0,0,0], # local peak: 10, 14, 21 시.  prime time: 21시\n",
    "        '농수축':[1,1,1, 6,6,6,6,6,6,6,6,6,6,6,6, 11,11, 16,16, 0,0], # local peak: 10, 17, 22 시. prime time: 22시\n",
    "        '잡화':[1, 6,6,6,6,6,6,6,6,6,6,6,6, 11, 16,16,16,16,16, 0,0], # local peak: 7, 11, 16, 19, 23 시. prime time: 19시\n",
    "        '생활용품':[1,1, 6,6,6,6,6,6,6,6,6,6,6,6,6, 11, 16,16,16, 0,0],  # local peak: 10, 17, 21 시. prime time: 21시\n",
    "        '주방':[1, 6,6,6,6,6,6,6,6,6,6,6,6,6,6, 11,11, 16, 0,0,0],  # local peak: 11, 15, 21 시. prime time: 21시\n",
    "        '이미용':[1, 6,6,6,6,6,6,6,6,6,6,6,6,6, 11,11, 16,16,16, 0,0], # local peak: 10, 16, 21 시. prime time: 21시\n",
    "        '속옷':[1, 6,6,6,6,6,6,6,6,6,6,6,6,6,6, 11,11, 16,16, 0,0], # local peak: 10, 22 시. prime time: 22시\n",
    "        '의류':[1, 6,6, 11,11,11,11,11,11,11,11,11,11,11,11,11, 16,16,16, 0,0], # local peak: 10, 15, 17, 21 시. prime time: 10시\n",
    "        '건강기능':[1, 6,6,6,6,6,6,6,6,6,6,6,6, 11, 16,16,16,16,16, 0,0], # local peak: 11, 19 시. prime time: 19시\n",
    "        '침구':[1,1,1, 6,6,6,6,6,6,6,6,6,6,6,6,6, 11, 16,16, 0,0], # local peak: 10, 22시. prime time: 22시\n",
    "        '가구':[1, 6,6,6,6,6,6,6,6,6,6,6,6,6,6, 11,11, 16, 0,0,0], # local peak: 7, 21시. prime time: 21시\n",
    "    }\n",
    "\n",
    "    for i in prime_peak_dict:\n",
    "        prime_peak_dict[i] = {m:hour_sin[n] for m,n in zip([6,7,8,9,10,11,12,13,14,15,16,17,18,19,20,21,22,23,0,1,2],prime_peak_dict[i])}\n",
    "\n",
    "    df_['프라임시간_w_c'] = 0\n",
    "    \n",
    "    for i in df_.index:\n",
    "        df_.loc[i,'프라임시간_w_c'] = prime_peak_dict[df_.loc[i,'상품군']][df_.loc[i,'시간대']]\n",
    "        \n",
    "    return df_"
   ]
  },
  {
   "cell_type": "code",
   "execution_count": 14,
   "metadata": {},
   "outputs": [],
   "source": [
    "df = processing_time_w_c(df)"
   ]
  },
  {
   "cell_type": "code",
   "execution_count": 10,
   "metadata": {},
   "outputs": [],
   "source": [
    "df = processing_prime_time_w_c(df)"
   ]
  },
  {
   "cell_type": "code",
   "execution_count": 18,
   "metadata": {},
   "outputs": [
    {
     "data": {
      "text/html": [
       "<div>\n",
       "<style scoped>\n",
       "    .dataframe tbody tr th:only-of-type {\n",
       "        vertical-align: middle;\n",
       "    }\n",
       "\n",
       "    .dataframe tbody tr th {\n",
       "        vertical-align: top;\n",
       "    }\n",
       "\n",
       "    .dataframe thead th {\n",
       "        text-align: right;\n",
       "    }\n",
       "</style>\n",
       "<table border=\"1\" class=\"dataframe\">\n",
       "  <thead>\n",
       "    <tr style=\"text-align: right;\">\n",
       "      <th></th>\n",
       "      <th>취급액</th>\n",
       "      <th>time_w</th>\n",
       "      <th>prime_time_w</th>\n",
       "      <th>시간_w_c</th>\n",
       "      <th>프라임시간_w_c</th>\n",
       "    </tr>\n",
       "  </thead>\n",
       "  <tbody>\n",
       "    <tr>\n",
       "      <th>취급액</th>\n",
       "      <td>1.000000</td>\n",
       "      <td>0.158561</td>\n",
       "      <td>-0.038599</td>\n",
       "      <td>0.083067</td>\n",
       "      <td>0.115074</td>\n",
       "    </tr>\n",
       "    <tr>\n",
       "      <th>time_w</th>\n",
       "      <td>0.158561</td>\n",
       "      <td>1.000000</td>\n",
       "      <td>0.381827</td>\n",
       "      <td>0.692447</td>\n",
       "      <td>0.788918</td>\n",
       "    </tr>\n",
       "    <tr>\n",
       "      <th>prime_time_w</th>\n",
       "      <td>-0.038599</td>\n",
       "      <td>0.381827</td>\n",
       "      <td>1.000000</td>\n",
       "      <td>0.369615</td>\n",
       "      <td>0.641241</td>\n",
       "    </tr>\n",
       "    <tr>\n",
       "      <th>시간_w_c</th>\n",
       "      <td>0.083067</td>\n",
       "      <td>0.692447</td>\n",
       "      <td>0.369615</td>\n",
       "      <td>1.000000</td>\n",
       "      <td>0.612603</td>\n",
       "    </tr>\n",
       "    <tr>\n",
       "      <th>프라임시간_w_c</th>\n",
       "      <td>0.115074</td>\n",
       "      <td>0.788918</td>\n",
       "      <td>0.641241</td>\n",
       "      <td>0.612603</td>\n",
       "      <td>1.000000</td>\n",
       "    </tr>\n",
       "  </tbody>\n",
       "</table>\n",
       "</div>"
      ],
      "text/plain": [
       "                   취급액    time_w  prime_time_w    시간_w_c  프라임시간_w_c\n",
       "취급액           1.000000  0.158561     -0.038599  0.083067   0.115074\n",
       "time_w        0.158561  1.000000      0.381827  0.692447   0.788918\n",
       "prime_time_w -0.038599  0.381827      1.000000  0.369615   0.641241\n",
       "시간_w_c        0.083067  0.692447      0.369615  1.000000   0.612603\n",
       "프라임시간_w_c     0.115074  0.788918      0.641241  0.612603   1.000000"
      ]
     },
     "execution_count": 18,
     "metadata": {},
     "output_type": "execute_result"
    }
   ],
   "source": [
    "df[['취급액','time_w','prime_time_w','시간_w_c','프라임시간_w_c']].corr()"
   ]
  },
  {
   "cell_type": "code",
   "execution_count": 17,
   "metadata": {},
   "outputs": [
    {
     "data": {
      "text/plain": [
       "Index(['방송일시', '노출(분)', '마더코드', '상품명', '상품군', '판매단가', '취급액', '노출(분)_w',\n",
       "       '상품명_n', '일시불_할인율', '무이자_일시불', '방송상품idx', '상품별_idx', '방송순서_비율',\n",
       "       '방송순서_w', '시간대', '기온', '강수량', '풍속', '습도', '방송일시n', '요일', '계절', '휴일',\n",
       "       '주말', '월', '일', '주차', '방송상품set_idx', 'word_key', '분당취급액', '브랜드_w',\n",
       "       'kospi_일', 'kospi_7일_이동평균', 'kospi_28일_이동평균', 'kospi_84일_이동평균',\n",
       "       'kospi_월평균', 'time_w', 'prime_time_w', '주중휴일별_시간별_시청률', '주중별_시간별_시청률',\n",
       "       '주중휴일별_시간별_10분별_시청률', '주중휴일별_시간별_10분별__시청률', '방송set', '프라임시간_w_c',\n",
       "       '시간_w_c'],\n",
       "      dtype='object')"
      ]
     },
     "execution_count": 17,
     "metadata": {},
     "output_type": "execute_result"
    }
   ],
   "source": [
    "df.columns"
   ]
  },
  {
   "cell_type": "code",
   "execution_count": null,
   "metadata": {},
   "outputs": [],
   "source": []
  }
 ],
 "metadata": {
  "kernelspec": {
   "display_name": "Python 3",
   "language": "python",
   "name": "python3"
  },
  "language_info": {
   "codemirror_mode": {
    "name": "ipython",
    "version": 3
   },
   "file_extension": ".py",
   "mimetype": "text/x-python",
   "name": "python",
   "nbconvert_exporter": "python",
   "pygments_lexer": "ipython3",
   "version": "3.7.7"
  }
 },
 "nbformat": 4,
 "nbformat_minor": 4
}
