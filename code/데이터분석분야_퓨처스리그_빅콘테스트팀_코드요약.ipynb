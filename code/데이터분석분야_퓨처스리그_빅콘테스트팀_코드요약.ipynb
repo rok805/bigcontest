{
 "cells": [
  {
   "cell_type": "markdown",
   "metadata": {},
   "source": [
    "# BDS (빅데이터 소년단)\n",
    "박민규, 이청록, 이창환"
   ]
  },
  {
   "cell_type": "markdown",
   "metadata": {},
   "source": [
    "## 코드 내용 정리\n",
    "EDA 및 전처리 -> 모델생성 -> 예측 및 모델 분석 -> 편성표 생성 순으로 구성\n",
    "\n",
    "## 실행방법\n",
    "* cmd 창에서 workspace/code로 이동함\n",
    "* python processing_data.py\n",
    "  * 전처리 하는 코드\n",
    "* python modeling.py config/model_setting.txt\n",
    "  * 모델링 하는 코드\n",
    "  * model_setting.txt에서 하이퍼 파라미터를 다양하게 수정할 수 있음\n",
    "  * 자세한 사항은 code 폴더의 Readme(모델).txt 참조\n",
    "* python predict.py\n",
    "  * test 데이터에 대한 최종 예측값을 만듦\n",
    "* broadcast.py : 여기 코드를 이용하여 최적의 편성표를 완성함"
   ]
  },
  {
   "cell_type": "markdown",
   "metadata": {},
   "source": [
    "#### 이상치 EDA.ipynb\n",
    "* 2019년 실적 데이터의 이상치를 정의하기 위해 사용한 코드\n",
    "* 최종적인 이상치 범위를 정함\n",
    "\n",
    "#### processing_data.py\n",
    "* processing_train_test.py, processing_word2vec.py, processing_make_var.py를 한번에 실행할 수 있도록 만드는 전처리 함수\n",
    "\n",
    "#### processing_train_test.py\n",
    "* 각종 변수를 전처리하여 분석 단계의 train, test 파일을 만드는 코드\n",
    "* 전처리 변수에 따라 함수를 나누어 다른 변수 전처리시 해당 변수의 함수만 추가 가능\n",
    "\n",
    "#### processing_word2vec.py\n",
    "* 실적 데이터의 상품명을 기준으로 워드임베딩을 하는 코드\n",
    "* 각 상품명을 단어 단위로 미리 전처리하여 만든 파일을 활용\n",
    "\n",
    "#### processing_make_var.py\n",
    "* 일시불_무이자 관련 변수를 생성하는 코드\n",
    "* 단어 사전과 실적의 상품명을 활용하여 변수 생성함\n",
    "\n",
    "#### 취급액 EDA.ipynb\n",
    "* 2019년 실적 데이터의 취급액 분포를 보기 위한 코드\n",
    "\n",
    "#### 방송구간_w 변수.ipynb\n",
    "* 방송별 구간에 따른 취급액의 패턴을 분석하기 위한 코드\n",
    "\n",
    "#### 시간주기변수.ipynb\n",
    "* 24시간을 기준으로 시간에 따라 취급액의 패턴이 있는지 분석하는 코드\n",
    "\n",
    "#### load_data.py\n",
    "* train,test 파일을 load 할 때 쓰는 코드\n",
    "* 방송set 단위, colab용, local용으로 나눔\n",
    "\n",
    "#### utils.py\n",
    "* 자주 사용하는 경로, 함수를 저장한 코드\n",
    "\n",
    "#### make_air_pollution.py\n",
    "* 미세먼지 데이터를 생성하는 코드\n",
    "\n",
    "#### eda_make_data.py\n",
    "* 대중교통, 방송 데이터, 무이자_일시불, 대중교통, 미세먼지에 대한 EDA를 하는 코드\n",
    "\n",
    "#### modeling.py\n",
    "* 예측 모델을 만들 때 train과 valid를 나누는 등 모델을 만들기 위한 준비 코드\n",
    "* standard 등 다양한 옵션 적용 가능\n",
    "\n",
    "#### cmd_modeling.py\n",
    "* 하이퍼 파라미터를 바꾸면서 modeling.py를 실행 할 때 쓰는 코드\n",
    "\n",
    "#### model.py\n",
    "* xgboost, MLP 등 모델 구조를 가진 코드\n",
    "\n",
    "#### predict.py\n",
    "* 만든 모델로 결과를 예측하는 코드\n",
    "* test 모델을 기본으로 하며, 예측값 및 feature importance 그래프 반환\n",
    "\n",
    "#### broadcast.py\n",
    "* 위에서 만든 예측 모델을 기반으로 최적의 월간 방송 편성 시스템을 구축하는 코드로 예측 취급액까지 제공함\n",
    "* 학습 모델을 기반으로 자동으로 만들기 때문에 데이터를 많이 넣을수록 예측 취급액의 정확도가 높아짐"
   ]
  }
 ],
 "metadata": {
  "kernelspec": {
   "display_name": "Python 3",
   "language": "python",
   "name": "python3"
  },
  "language_info": {
   "codemirror_mode": {
    "name": "ipython",
    "version": 3
   },
   "file_extension": ".py",
   "mimetype": "text/x-python",
   "name": "python",
   "nbconvert_exporter": "python",
   "pygments_lexer": "ipython3",
   "version": "3.7.7"
  }
 },
 "nbformat": 4,
 "nbformat_minor": 4
}
